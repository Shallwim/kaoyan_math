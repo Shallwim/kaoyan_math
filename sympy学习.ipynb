{
 "cells": [
  {
   "cell_type": "code",
   "execution_count": 3,
   "metadata": {},
   "outputs": [],
   "source": [
    "from sympy import Rational "
   ]
  },
  {
   "cell_type": "code",
   "execution_count": 8,
   "metadata": {},
   "outputs": [
    {
     "name": "stdout",
     "output_type": "stream",
     "text": [
      "0.900000000000000\n",
      "0.9000000000000001\n"
     ]
    }
   ],
   "source": [
    "r1 = Rational(1/10)\n",
    "r2 = Rational(1/10)\n",
    "r3 = Rational(1/10)\n",
    "\n",
    "val = (r1+r2+r3)*3\n",
    "print (val.evalf())#符号形式 用evalf（）求值\n",
    "val2= (1/10+1/10+1/10)*3\n",
    "print(val2)"
   ]
  },
  {
   "cell_type": "markdown",
   "metadata": {},
   "source": [
    "pprint（）在控制台里打漂亮的输出"
   ]
  },
  {
   "cell_type": "code",
   "execution_count": 12,
   "metadata": {},
   "outputs": [
    {
     "name": "stdout",
     "output_type": "stream",
     "text": [
      "√2\n",
      "sqrt(2)\n",
      "-----\n",
      " 2⋅x\n",
      "ℯ   \n",
      "────\n",
      " 2  \n",
      "exp(2*x)/2\n"
     ]
    }
   ],
   "source": [
    "from sympy import pprint,Symbol,exp,sqrt\n",
    "from sympy import init_printing\n",
    "init_printing(use_unicode = True)\n",
    "x= Symbol('x')\n",
    "a = sqrt(2)\n",
    "pprint(a)\n",
    "print(a)\n",
    "print('-----')\n",
    "c=(exp(x)**2)/2 #指数函数\n",
    "pprint(c)\n",
    "print(c)"
   ]
  },
  {
   "cell_type": "markdown",
   "metadata": {},
   "source": [
    "平方根  \n",
    "平方根是一个数字，乘以它会产生指定的数量"
   ]
  },
  {
   "cell_type": "code",
   "execution_count": 15,
   "metadata": {
    "scrolled": true
   },
   "outputs": [
    {
     "name": "stdout",
     "output_type": "stream",
     "text": [
      "√2⋅√2\n",
      "equals to\n",
      "2\n",
      "2\n"
     ]
    }
   ],
   "source": [
    "from sympy import sqrt,pprint,Mul\n",
    "x = sqrt(2)\n",
    "y=sqrt(2)\n",
    "pprint(Mul(x,y,evaluate=False))#根号2和根号2相乘，不立即计算\n",
    "print('equals to')\n",
    "print(x*y)"
   ]
  },
  {
   "cell_type": "markdown",
   "metadata": {},
   "source": [
    "sympy符号  \n",
    "使用符号前，必须在sympy中定义符号  \n",
    "下面是3种定义符号的方法"
   ]
  },
  {
   "cell_type": "code",
   "execution_count": 23,
   "metadata": {},
   "outputs": [
    {
     "name": "stdout",
     "output_type": "stream",
     "text": [
      "2*x + 5*y\n",
      "a*b + a - b\n",
      "3*i*j\n"
     ]
    }
   ],
   "source": [
    "from sympy import Symbol,symbols\n",
    "from sympy.abc import x,y#将所有拉丁字母和希腊字母定义为符号\n",
    "expr = 2*x+5*y\n",
    "print(expr)\n",
    "a = Symbol('a')#用symbol定义\n",
    "b = Symbol('b')\n",
    "expr2 = a*b+a-b\n",
    "print(expr2)\n",
    "i,j = symbols('i j')#用symbols定义多个符号\n",
    "expr3 = 2*i*j+i*j\n",
    "print(expr3)"
   ]
  },
  {
   "cell_type": "markdown",
   "metadata": {},
   "source": [
    "规范表达式"
   ]
  },
  {
   "cell_type": "code",
   "execution_count": 25,
   "metadata": {},
   "outputs": [
    {
     "name": "stdout",
     "output_type": "stream",
     "text": [
      "2*a*b + 3*a + 4*b\n"
     ]
    }
   ],
   "source": [
    "from sympy.abc import a,b\n",
    "expr = b*a + -4*a +b+a*b+4*a+(a+b)*3\n",
    "print (expr)"
   ]
  },
  {
   "cell_type": "markdown",
   "metadata": {},
   "source": [
    "扩展代数表达式  \n",
    "使用expand（），可以扩展代数表达式，用这个方法消除幂和乘法  \n"
   ]
  },
  {
   "cell_type": "code",
   "execution_count": 26,
   "metadata": {},
   "outputs": [
    {
     "name": "stdout",
     "output_type": "stream",
     "text": [
      "       2\n",
      "(x + 1) \n",
      "---\n",
      " 2          \n",
      "x  + 2⋅x + 1\n"
     ]
    }
   ],
   "source": [
    "from sympy import expand ,pprint\n",
    "from sympy.abc import x\n",
    "expr = (x+1)**2\n",
    "pprint(expr)\n",
    "print(\"---\")\n",
    "expr = expand(expr)\n",
    "pprint(expr)"
   ]
  },
  {
   "cell_type": "markdown",
   "metadata": {},
   "source": [
    "简化表达式  \n",
    "可以使用simplify（）将表达式更改为更简单的形式"
   ]
  },
  {
   "cell_type": "code",
   "execution_count": 30,
   "metadata": {},
   "outputs": [
    {
     "name": "stdout",
     "output_type": "stream",
     "text": [
      "sin(x)\n",
      "──────\n",
      "cos(x)\n",
      "---\n",
      "tan(x)\n"
     ]
    }
   ],
   "source": [
    "from sympy import sin , cos,simplify,pprint\n",
    "from sympy.abc import x\n",
    "expr =sin(x)/cos(x)\n",
    "pprint(expr)\n",
    "print(\"---\")\n",
    "expr = simplify(expr)\n",
    "pprint(expr)"
   ]
  },
  {
   "cell_type": "markdown",
   "metadata": {},
   "source": [
    "比较表达式 equals（）  \n",
    "在比较之前，sympy会尝试简化该表达式"
   ]
  },
  {
   "cell_type": "code",
   "execution_count": 33,
   "metadata": {},
   "outputs": [
    {
     "name": "stdout",
     "output_type": "stream",
     "text": [
      "True\n",
      "False\n"
     ]
    }
   ],
   "source": [
    "from sympy import pprint,Symbol,sin,cos\n",
    "x = Symbol('x')\n",
    "a = cos(x)**2 - sin(x)**2\n",
    "b = cos(2*x)\n",
    "print (a.equals(b))\n",
    "print(a==b)"
   ]
  },
  {
   "cell_type": "markdown",
   "metadata": {},
   "source": [
    "求值表达式"
   ]
  },
  {
   "cell_type": "code",
   "execution_count": 1,
   "metadata": {},
   "outputs": [
    {
     "name": "stdout",
     "output_type": "stream",
     "text": [
      "3.14159265358979323846264338328\n"
     ]
    }
   ],
   "source": [
    "from sympy import pi \n",
    "print (pi.evalf(30))"
   ]
  },
  {
   "cell_type": "code",
   "execution_count": 5,
   "metadata": {},
   "outputs": [
    {
     "name": "stdout",
     "output_type": "stream",
     "text": [
      "2⋅a⋅b + 3⋅a + 4⋅b\n",
      "29\n"
     ]
    }
   ],
   "source": [
    "from sympy.abc import a,b\n",
    "from sympy import pprint,simplify\n",
    "expr = b*a + -4*a +b+a*b +4*a +(a+b)*3\n",
    "pprint(simplify(expr))\n",
    "print (expr.subs([(a,3),(b,2)]))"
   ]
  },
  {
   "cell_type": "markdown",
   "metadata": {},
   "source": [
    "求解方程  \n",
    "用 solve() 或 solveset()解方程"
   ]
  },
  {
   "cell_type": "code",
   "execution_count": 37,
   "metadata": {},
   "outputs": [
    {
     "name": "stdout",
     "output_type": "stream",
     "text": [
      "[0, 1]\n",
      "----\n",
      "[-√y, √y]\n"
     ]
    }
   ],
   "source": [
    "from sympy import Symbol,solve\n",
    "x = Symbol('x')\n",
    "sol = solve(x**2-x,x) #x**2=x,求x\n",
    "print(sol)\n",
    "print(\"----\")\n",
    "y = Symbol('y')\n",
    "sol2 = solve(x**2-y,x)\n",
    "pprint(sol2)"
   ]
  },
  {
   "cell_type": "markdown",
   "metadata": {},
   "source": [
    "将Eq用于公式"
   ]
  },
  {
   "cell_type": "code",
   "execution_count": 8,
   "metadata": {},
   "outputs": [
    {
     "name": "stdout",
     "output_type": "stream",
     "text": [
      "x + 1 = 4\n",
      "[3]\n"
     ]
    }
   ],
   "source": [
    "from sympy import pprint,Symbol,Eq,solve\n",
    "x = Symbol('x')\n",
    "eq1 = Eq(x+1,4)\n",
    "pprint(eq1)\n",
    "sol = solve(eq1,x)\n",
    "print(sol)"
   ]
  },
  {
   "cell_type": "code",
   "execution_count": 11,
   "metadata": {},
   "outputs": [
    {
     "name": "stdout",
     "output_type": "stream",
     "text": [
      "FiniteSet(1)\n"
     ]
    }
   ],
   "source": [
    "from sympy.solvers import solveset\n",
    "from sympy import Symbol, Interval, pprint\n",
    "\n",
    "x = Symbol('x')\n",
    "\n",
    "sol = solveset(x**2 - 1, x, Interval(0, 100))\n",
    "print(sol)"
   ]
  },
  {
   "cell_type": "markdown",
   "metadata": {},
   "source": [
    "序列  \n",
    "序列允许重复，数量可以是有限或是无限的，数量称为序列的长度。  \n",
    "序列是有序的"
   ]
  },
  {
   "cell_type": "code",
   "execution_count": 12,
   "metadata": {},
   "outputs": [
    {
     "name": "stdout",
     "output_type": "stream",
     "text": [
      "SeqFormula(x, (x, 1, 10))\n",
      "[1, 2, 3, 4, …]\n",
      "[1, 2, 3, 4, 5, 6, 7, 8, 9, 10]\n",
      "10\n",
      "55\n"
     ]
    }
   ],
   "source": [
    "#!/usr/bin/env python\n",
    "\n",
    "from sympy import summation, sequence, pprint\n",
    "from sympy.abc import x\n",
    "\n",
    "s = sequence(x, (x, 1, 10))\n",
    "print(s)\n",
    "pprint(s)\n",
    "print(list(s))\n",
    "\n",
    "print(s.length)\n",
    "\n",
    "print(summation(s.formula, (x, s.start, s.stop)))\n",
    "# print(sum(list(s)))"
   ]
  },
  {
   "cell_type": "markdown",
   "metadata": {},
   "source": [
    "sympy极限  \n",
    "极限是函数接近或作为输入接近某个值的值"
   ]
  },
  {
   "cell_type": "code",
   "execution_count": 14,
   "metadata": {},
   "outputs": [
    {
     "name": "stdout",
     "output_type": "stream",
     "text": [
      "0\n",
      "oo\n"
     ]
    }
   ],
   "source": [
    "from sympy import sin,limit,oo\n",
    "from sympy.abc import x\n",
    "l1=limit(1/x,x,oo)\n",
    "print(l1)\n",
    "l2= limit(1/x,x,0)\n",
    "print(l2)"
   ]
  },
  {
   "cell_type": "markdown",
   "metadata": {},
   "source": [
    "symPy矩阵  \n"
   ]
  },
  {
   "cell_type": "code",
   "execution_count": 16,
   "metadata": {},
   "outputs": [
    {
     "name": "stdout",
     "output_type": "stream",
     "text": [
      "Matrix([[1, 2], [3, 4], [0, 3]])\n",
      "⎡1  2⎤\n",
      "⎢    ⎥\n",
      "⎢3  4⎥\n",
      "⎢    ⎥\n",
      "⎣0  3⎦\n",
      "---------------------------\n",
      "M * N\n",
      "---------------------------\n",
      "⎡6 ⎤\n",
      "⎢  ⎥\n",
      "⎢14⎥\n",
      "⎢  ⎥\n",
      "⎣6 ⎦\n"
     ]
    }
   ],
   "source": [
    "from sympy import Matrix, pprint\n",
    "\n",
    "M = Matrix([[1, 2], [3, 4], [0, 3]])\n",
    "print(M)\n",
    "pprint(M)\n",
    "\n",
    "N = Matrix([2, 2])\n",
    "\n",
    "print(\"---------------------------\")\n",
    "print(\"M * N\")\n",
    "print(\"---------------------------\")\n",
    "\n",
    "pprint(M*N)"
   ]
  },
  {
   "cell_type": "markdown",
   "metadata": {},
   "source": [
    "SymPy 包含用于绘图的模块。 它基于 Matplotlib 构建。"
   ]
  },
  {
   "cell_type": "code",
   "execution_count": 35,
   "metadata": {},
   "outputs": [
    {
     "data": {
      "image/png": "[encoded data removed]",
      "text/plain": [
       "<Figure size 432x288 with 1 Axes>"
      ]
     },
     "metadata": {
      "needs_background": "light"
     },
     "output_type": "display_data"
    },
    {
     "data": {
      "image/png": "[encoded data removed]",
      "text/plain": [
       "<Figure size 432x288 with 1 Axes>"
      ]
     },
     "metadata": {
      "needs_background": "light"
     },
     "output_type": "display_data"
    },
    {
     "data": {
      "image/png": "[encoded data removed]",
      "text/plain": [
       "<Figure size 432x288 with 1 Axes>"
      ]
     },
     "metadata": {
      "needs_background": "light"
     },
     "output_type": "display_data"
    },
    {
     "data": {
      "text/plain": [
       "<sympy.plotting.plot.Plot at 0x79247c8d68>"
      ]
     },
     "execution_count": 35,
     "metadata": {},
     "output_type": "execute_result"
    }
   ],
   "source": [
    "#!/usr/bin/env python\n",
    "\n",
    "# uses matplotlib\n",
    "\n",
    "import sympy\n",
    "from sympy.abc import x,y\n",
    "from sympy.plotting import plot\n",
    "\n",
    "plot(x**(1/3))\n",
    "plot(x**3)\n",
    "plot(x**(1/3)*x**3)"
   ]
  }
 ],
 "metadata": {
  "kernelspec": {
   "display_name": "Python 3",
   "language": "python",
   "name": "python3"
  },
  "language_info": {
   "codemirror_mode": {
    "name": "ipython",
    "version": 3
   },
   "file_extension": ".py",
   "mimetype": "text/x-python",
   "name": "python",
   "nbconvert_exporter": "python",
   "pygments_lexer": "ipython3",
   "version": "3.7.3"
  }
 },
 "nbformat": 4,
 "nbformat_minor": 4
}
