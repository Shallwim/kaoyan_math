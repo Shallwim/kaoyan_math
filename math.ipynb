{
 "cells": [
  {
   "cell_type": "code",
   "execution_count": 10,
   "metadata": {},
   "outputs": [],
   "source": [
    "import portion as P"
   ]
  },
  {
   "cell_type": "markdown",
   "metadata": {},
   "source": [
    "函数对象 </br>  \n",
    "变量：x   \n",
    "取值范围：D  \n",
    "唯一y对应着x  \n",
    "y=f(x)  \n",
    "D 是函数的定义域\n",
    "判断这个函数成立  \n",
    "1.唯一的y\n",
    "2.x在范围内"
   ]
  },
  {
   "cell_type": "code",
   "execution_count": 79,
   "metadata": {},
   "outputs": [],
   "source": [
    "class Function():\n",
    "    #暂时未考虑y有两个解的情况\n",
    "    def  __init__(self,x,x_range=P.open(-P.inf,P.inf)):\n",
    "        self.x=x\n",
    "        self.x_range=x_range\n",
    "    def y(self):\n",
    "        if self.is_valid():\n",
    "            print('通过x=%s求y的函数'%self.x)\n",
    "            y=self.x\n",
    "            return y\n",
    "        else:\n",
    "            print('ERROR:函数无效，x不在定义域中，或者y有2个解（该方法暂未考虑）')\n",
    "    def is_valid(self):\n",
    "        return (self.x in self.x_range)\n",
    "class Inverse_Function(Function):\n",
    "    def __init__(self,x,x_range=P.open(-P.inf,P.inf)):\n",
    "        super().__init__(x,x_range)\n",
    "    def y(self):\n",
    "        if self.is_valid():\n",
    "            print('通过x=%s求y的函数'%self.x)\n",
    "            y=self.x*2\n",
    "            return 2*y\n",
    "        else:\n",
    "            print('ERROR:函数无效，x不在定义域中，或者y有2个解（该方法暂未考虑）')\n",
    "\n",
    "    \n"
   ]
  },
  {
   "cell_type": "code",
   "execution_count": 77,
   "metadata": {
    "scrolled": true
   },
   "outputs": [
    {
     "name": "stdout",
     "output_type": "stream",
     "text": [
      "ERROR:函数无效，x不在定义域中，或者y有2个解（该方法暂未考虑）\n"
     ]
    }
   ],
   "source": [
    "fuc = Function(1,P.open(0,1))\n",
    "fuc.y()"
   ]
  },
  {
   "cell_type": "code",
   "execution_count": 80,
   "metadata": {},
   "outputs": [
    {
     "name": "stdout",
     "output_type": "stream",
     "text": [
      "通过x=0.5求y的函数\n"
     ]
    },
    {
     "data": {
      "text/plain": [
       "2.0"
      ]
     },
     "execution_count": 80,
     "metadata": {},
     "output_type": "execute_result"
    }
   ],
   "source": [
    "fuc = Inverse_Function(0.5,P.open(0,1))\n",
    "fuc.y()"
   ]
  },
  {
   "cell_type": "code",
   "execution_count": 22,
   "metadata": {},
   "outputs": [
    {
     "name": "stdout",
     "output_type": "stream",
     "text": [
      "True\n"
     ]
    }
   ],
   "source": [
    "a=P.closedopen(-P.inf,P.inf)\n",
    "print (1.9999 in a)"
   ]
  },
  {
   "cell_type": "code",
   "execution_count": 49,
   "metadata": {},
   "outputs": [
    {
     "name": "stdout",
     "output_type": "stream",
     "text": [
      "1\n"
     ]
    }
   ],
   "source": []
  }
 ],
 "metadata": {
  "kernelspec": {
   "display_name": "Python 3",
   "language": "python",
   "name": "python3"
  },
  "language_info": {
   "codemirror_mode": {
    "name": "ipython",
    "version": 3
   },
   "file_extension": ".py",
   "mimetype": "text/x-python",
   "name": "python",
   "nbconvert_exporter": "python",
   "pygments_lexer": "ipython3",
   "version": "3.7.3"
  }
 },
 "nbformat": 4,
 "nbformat_minor": 2
}
