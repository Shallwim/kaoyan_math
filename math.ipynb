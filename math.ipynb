{
 "cells": [
  {
   "cell_type": "markdown",
   "metadata": {},
   "source": [
    "导入需求包"
   ]
  },
  {
   "cell_type": "code",
   "execution_count": 59,
   "metadata": {},
   "outputs": [],
   "source": [
    "import portion as P\n",
    "\n",
    "from sympy import *\n",
    "import math\n",
    "import matplotlib.pyplot as plt\n",
    "import numpy as np"
   ]
  },
  {
   "cell_type": "markdown",
   "metadata": {},
   "source": [
    "函数对象 </br>  \n",
    "变量：x   \n",
    "取值范围：D  \n",
    "唯一y对应着x  \n",
    "y=f(x)  \n",
    "D 是函数的定义域\n",
    "判断这个函数成立  \n",
    "1.唯一的y\n",
    "2.x在范围内"
   ]
  },
  {
   "cell_type": "code",
   "execution_count": 115,
   "metadata": {},
   "outputs": [],
   "source": [
    "class Function():\n",
    "    #暂时未考虑y有两个解的情况\n",
    "    def  __init__(self,X,expr=sin(Symbol(\"x\")), X_range=P.open(-P.inf,P.inf)):\n",
    "        \n",
    "        self.X=X\n",
    "        self.X_range=X_range\n",
    "        self.expr=expr\n",
    "    def Y(self):\n",
    "        if self.is_valid():\n",
    "            print('通过x=%s求y的函数'%self.X)\n",
    "            Y = 0\n",
    "            x = Symbol(\"x\")\n",
    "            #self.expr = x**2\n",
    "            print (\"y=%d\"%self.expr.subs([(x,self.X)]))\n",
    "            \n",
    "            return Y\n",
    "        else:\n",
    "            print('ERROR:函数无效，x不在定义域中，或者y有2个解（该方法暂未考虑）')\n",
    "    def is_valid(self):\n",
    "        return (self.X in self.X_range)\n",
    "    def solution(self):\n",
    "        print('这是解题方法')\n",
    "    def propertys(self):\n",
    "        print('这是函数的性质')\n",
    "    def Inverse_Function(self): #求反函数\n",
    "        if self.is_valid()and self.monotonicity():\n",
    "            x = Symbol(\"x\")\n",
    "            y=Symbol(\"y\")\n",
    "            sol = solve(self.expr-y,x)         \n",
    "            pprint('反函数 y=%sx'%sol)\n",
    "            \n",
    "\n",
    "        else:\n",
    "            print('ERROR:函数无效，x不在定义域中，或者y有2个解（该方法暂未考虑）')    \n",
    "    def monotonicity(self):#求函数的单调性\n",
    "        print('验证函数单调性')\n",
    "        print('方法1：设x1，x2属于[a,b],x1<>x2,那么 （x1-x2）和f（x1）-f(x2)的乘积为正数')\n",
    "        print('方法2：求导数')\n",
    "        return True\n",
    "    def plot(self):#画函数的图像\n",
    "        %matplotlib inline\n",
    "        X= np.arange(-3,4,0.1)\n",
    "        x = Symbol(\"x\")\n",
    "        Y=[]\n",
    "        for i in X:\n",
    "            #print(i,self.expr.subs([(x,i)]))\n",
    "            Y.append(self.expr.subs([(x,i)]))\n",
    "        Z=X**3\n",
    "        fig,ax = plt.subplots(figsize = (5,5))\n",
    "        line1=ax.plot(X,Y)\n",
    "        ax.set_title('fuc:y=%s'%self.expr,fontsize =18)\n",
    "        ax.set_xlabel('xlabel',fontsize=18,fontfamily='sans-serif',fontstyle='italic')\n",
    "        ax.set_ylabel('ylabel',fontsize='x-large',fontstyle = 'oblique')\n",
    "        ax.set(xlabel='X-Axis')\n",
    "        ax.legend(line1)\n",
    "        #ax.set_aspect(\"equal\")#设置画框为正方形\n",
    "        ax.minorticks_on()#刻度\n",
    "        #ax.set_xlim(0,20)#设置x的宽度\n",
    "        ax.grid(which='minor',axis='both')#网格\n",
    "        #ax.xaxis.set_tick_params()\n",
    "        #start,end = ax.get_xlim()\n",
    "        #ax.xaxis.set_ticks(np.arange(start,end,1))#设置刻度\n",
    "        ax.yaxis.tick_right()#刻度右移\n",
    "\n"
   ]
  },
  {
   "cell_type": "code",
   "execution_count": null,
   "metadata": {},
   "outputs": [],
   "source": []
  },
  {
   "cell_type": "code",
   "execution_count": 117,
   "metadata": {
    "scrolled": true
   },
   "outputs": [
    {
     "name": "stdout",
     "output_type": "stream",
     "text": [
      "通过x=2求y的函数\n",
      "y=0\n",
      "验证函数单调性\n",
      "方法1：设x1，x2属于[a,b],x1<>x2,那么 （x1-x2）和f（x1）-f(x2)的乘积为正数\n",
      "方法2：求导数\n",
      "反函数 y=[pi - asin(y), asin(y)]x\n"
     ]
    },
    {
     "data": {
      "image/png": "[encoded data removed]",
      "text/plain": [
       "<Figure size 360x360 with 1 Axes>"
      ]
     },
     "metadata": {
      "needs_background": "light"
     },
     "output_type": "display_data"
    }
   ],
   "source": [
    "fuc = Function(2)\n",
    "fuc.Y()\n",
    "fuc.Inverse_Function()\n",
    "fuc.plot()"
   ]
  },
  {
   "cell_type": "code",
   "execution_count": 6,
   "metadata": {},
   "outputs": [
    {
     "name": "stdout",
     "output_type": "stream",
     "text": [
      "通过x=0.5求y的函数\n"
     ]
    },
    {
     "data": {
      "text/plain": [
       "2.0"
      ]
     },
     "execution_count": 6,
     "metadata": {},
     "output_type": "execute_result"
    }
   ],
   "source": [
    "fuc = Inverse_Function(0.5,P.open(0,1))\n",
    "fuc.y()"
   ]
  },
  {
   "cell_type": "code",
   "execution_count": 7,
   "metadata": {
    "scrolled": true
   },
   "outputs": [
    {
     "name": "stdout",
     "output_type": "stream",
     "text": [
      "True\n"
     ]
    }
   ],
   "source": [
    "a=P.closedopen(-P.inf,P.inf)\n",
    "print (1.9999 in a)"
   ]
  },
  {
   "cell_type": "code",
   "execution_count": 12,
   "metadata": {},
   "outputs": [
    {
     "data": {
      "text/latex": [
       "$\\displaystyle 1$"
      ],
      "text/plain": [
       "1"
      ]
     },
     "execution_count": 12,
     "metadata": {},
     "output_type": "execute_result"
    }
   ],
   "source": [
    "x=100\n",
    "simplify(sin(x)**2+cos(x)**2)"
   ]
  },
  {
   "cell_type": "code",
   "execution_count": 3,
   "metadata": {},
   "outputs": [
    {
     "data": {
      "image/png": "[encoded data removed]",
      "text/plain": [
       "<Figure size 432x288 with 1 Axes>"
      ]
     },
     "metadata": {
      "needs_background": "light"
     },
     "output_type": "display_data"
    },
    {
     "data": {
      "text/plain": [
       "<sympy.plotting.plot.Plot at 0x72b0410240>"
      ]
     },
     "execution_count": 3,
     "metadata": {},
     "output_type": "execute_result"
    }
   ],
   "source": []
  },
  {
   "cell_type": "code",
   "execution_count": null,
   "metadata": {},
   "outputs": [],
   "source": []
  }
 ],
 "metadata": {
  "kernelspec": {
   "display_name": "Python 3",
   "language": "python",
   "name": "python3"
  },
  "language_info": {
   "codemirror_mode": {
    "name": "ipython",
    "version": 3
   },
   "file_extension": ".py",
   "mimetype": "text/x-python",
   "name": "python",
   "nbconvert_exporter": "python",
   "pygments_lexer": "ipython3",
   "version": "3.7.3"
  }
 },
 "nbformat": 4,
 "nbformat_minor": 2
}
